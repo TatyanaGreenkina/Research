{
 "cells": [
  {
   "cell_type": "markdown",
   "metadata": {},
   "source": [
    "# Исследование векторного представления элементов и настройка параметров\n",
    "\n",
    "## Корпус справочных элементов и предобработка\n",
    "\n",
    "Корпус справочных элементов представляет собой набор из 264 тысяч записей справочника \"Номенклатуры\"\n",
    "\n",
    "Минимальная предобработка выполнена с помошью библиотекой Python - NLTK и включает в себя следующую последовательность действий:\n",
    "* Удаление пунктуации и знаков\n",
    "* Удаление числовых значений\n",
    "* Приведение слов к нижнему регистру\n",
    "* Токенизация"
   ]
  },
  {
   "cell_type": "code",
   "execution_count": 5,
   "metadata": {},
   "outputs": [
    {
     "data": {
      "application/vnd.jupyter.widget-view+json": {
       "model_id": "e1c79802763e45798f9aa9bf2a1e3fb3",
       "version_major": 2,
       "version_minor": 0
      },
      "text/plain": [
       "HBox(children=(IntProgress(value=0, max=263740), HTML(value='')))"
      ]
     },
     "metadata": {},
     "output_type": "display_data"
    },
    {
     "name": "stdout",
     "output_type": "stream",
     "text": [
      "\n"
     ]
    }
   ],
   "source": [
    "from nltk.tokenize import RegexpTokenizer\n",
    "import re\n",
    "import pandas as pd\n",
    "from tqdm import tqdm_notebook as tq\n",
    "\n",
    "data_file = pd.read_csv('./Data/material.csv', sep=';', encoding = 'cp1251', error_bad_lines=False,\n",
    "                        low_memory=False)[['FullName']]\n",
    "\n",
    "data_file = data_file[['FullName']].astype('str')\n",
    "\n",
    "tokenizer = RegexpTokenizer(r'\\w+')\n",
    "\n",
    "rows = [row[0] for row in data_file.values]\n",
    "\n",
    "words = []\n",
    "for row in tq(rows):\n",
    "    words.append([i.lower() for i in tokenizer.tokenize(re.sub(r'\\d+', '', row)) if len(i) > 1])"
   ]
  },
  {
   "cell_type": "markdown",
   "metadata": {},
   "source": [
    "## Набор гиперпараметров\n",
    "\n",
    "Параметры | Значения\n",
    "----------| --------\n",
    "Размерность вектора | 25 / 50 / **100** / 200 / 400 / 800\n",
    "Окно | 1 / 2 / 3 / 4 / **5** / 6 / 7 / 8\n",
    "Минимальная частота | 0 / **5** / 10 / 20 / 50 / 100 / 200/400 / 800 / 1000 / 1200 / 2400\n",
    "Негативное семплирование | 1 / 2 / 3 / **5** / 8 /10 / 15\n",
    "Шаг обучения | 0.0125 / **0.025** / 0.05 / 0.1\n",
    "Сэмплирование | 0 / 1e-1 / 1e-2 / **1e-3** / 1e-4 / 1e-5 / 1e-6 / 1e-7 / 1e-8 / 1e-9"
   ]
  },
  {
   "cell_type": "markdown",
   "metadata": {},
   "source": [
    "### Baseline model"
   ]
  },
  {
   "cell_type": "code",
   "execution_count": 2,
   "metadata": {},
   "outputs": [],
   "source": [
    "from gensim.models import Word2Vec as w2v\n",
    "\n",
    "def_param = {'size': 100, 'window': 5, 'min_count': 5, 'negative': 5, 'alpha': 0.025, 'sample': 1e-3}\n",
    "\n",
    "set_param = {\n",
    "    'size': [25, 50, 100, 200, 400, 800], \n",
    "    'window': [1, 2, 3, 4, 5, 5, 7, 8],\n",
    "    'min_count': [0, 5, 10, 20, 50, 100, 200, 400, 800, 1000, 1200, 2400],\n",
    "    'negative': [1, 2, 3, 5, 8, 10, 15],\n",
    "    'alpha': [0.0125, 0.025, 0.05, 0.01],\n",
    "    'sample': [0, 1e-1, 1e-2, 1e-3, 1e-4, 1e-5, 1e-6, 1e-7, 1e-8, 1e-9]\n",
    "}\n",
    "\n",
    "param_to_index = {'size': 0, 'window': 1, 'min_count': 2, 'negative': 3, 'alpha': 4, 'sample': 5}\n",
    "# index_to_param = {0: 'size', 1: 'window', 2: 'min_count', 3: 'negative', 4: 'alpha', 5: 'sample'}\n",
    "\n",
    "# size = [25, 50, 100, 200, 400, 800]\n",
    "# window = [1, 2, 3, 4, 5, 5, 7, 8]\n",
    "# min_count = [0, 5, 10, 20, 50, 100, 200, 400, 800, 1000, 1200, 2400]\n",
    "# negative = [1, 2, 3, 5, 8, 10, 15]\n",
    "# alpha = [0.0125, 0.025, 0.05, 0.01]\n",
    "# sample = [0, 1e-1, 1e-2, 1e-3, 1e-4, 1e-5, 1e-6, 1e-7, 1e-8, 1e-9]\n",
    "\n",
    "# models = w2v(words, size=def_param['size'], window=def_param['window'], min_count=def_param['min_count'], sg=1,\n",
    "#              negative=def_param['negative'], alpha=def_param['alpha'], sample=def_param['alpha'])"
   ]
  },
  {
   "cell_type": "markdown",
   "metadata": {},
   "source": [
    "## Внутренняя оценка векторов\n",
    "\n",
    "Внутренняя оценка проводится по методу оценки сходства слов на размечанном корпусе 380 пар для измерения близости элементов спавочника. \n",
    "\n",
    "Элемент справочника $el = \\{w_{1}, w_{2}, ..., w_{k}\\}$, тогда вектор элемента вычисляется по следующей формуле\n",
    "\n",
    "$$\n",
    "x_{el} = \\frac{1}{k}\\sum_{i=1}^{k}w_{i}\n",
    "$$\n",
    "\n",
    "Все пары однозначно определены, следовательно средний показатель косинусной близости должен стремиться к единице для всех примеров."
   ]
  },
  {
   "cell_type": "code",
   "execution_count": 3,
   "metadata": {},
   "outputs": [],
   "source": [
    "import pandas as pd\n",
    "import numpy as np\n",
    "import scipy\n",
    "\n",
    "data = pd.read_csv(r'./Data/labeled_data.csv', sep=';', encoding='cp1251', error_bad_lines=False)[['ЭталоннаяПозиция',\n",
    "                                                                                                   'Номенклатура']]\n",
    "def tokens(elem, model, size):\n",
    "    elem = [i.lower() for i in tokenizer.tokenize(re.sub(r'\\d+', '', elem)) if len(i) > 1]\n",
    "    el = []\n",
    "    for i in elem:\n",
    "        try:\n",
    "            el.append(model.wv[i])\n",
    "        except KeyError:\n",
    "            el.append(np.zeros(size))\n",
    "    return el"
   ]
  },
  {
   "cell_type": "code",
   "execution_count": 9,
   "metadata": {},
   "outputs": [
    {
     "data": {
      "application/vnd.jupyter.widget-view+json": {
       "model_id": "1f0a8993093146f0aba5c24ac3d6fb96",
       "version_major": 2,
       "version_minor": 0
      },
      "text/plain": [
       "HBox(children=(IntProgress(value=0, max=6), HTML(value='')))"
      ]
     },
     "metadata": {},
     "output_type": "display_data"
    },
    {
     "name": "stdout",
     "output_type": "stream",
     "text": [
      "379\n",
      "size = 25 [25, 5, 5, 5, 0.025, 0.001] \n",
      " Similarity = 0.9280106619442456\n",
      "379\n",
      "size = 50 [50, 5, 5, 5, 0.025, 0.001] \n",
      " Similarity = 0.9098054833299476\n",
      "379\n",
      "size = 100 [100, 5, 5, 5, 0.025, 0.001] \n",
      " Similarity = 0.9026454101055017\n",
      "379\n",
      "size = 200 [200, 5, 5, 5, 0.025, 0.001] \n",
      " Similarity = 0.901944495173828\n",
      "379\n",
      "size = 400 [400, 5, 5, 5, 0.025, 0.001] \n",
      " Similarity = 0.9036644331943059\n",
      "379\n",
      "size = 800 [800, 5, 5, 5, 0.025, 0.001] \n",
      " Similarity = 0.9044860928459704\n",
      "379\n",
      "window = 1 [100, 1, 5, 5, 0.025, 0.001] \n",
      " Similarity = 0.9073514897341098\n",
      "379\n",
      "window = 2 [100, 2, 5, 5, 0.025, 0.001] \n",
      " Similarity = 0.9072034939545546\n",
      "379\n",
      "window = 3 [100, 3, 5, 5, 0.025, 0.001] \n",
      " Similarity = 0.9058057921008699\n",
      "379\n",
      "window = 4 [100, 4, 5, 5, 0.025, 0.001] \n",
      " Similarity = 0.9037604111944467\n",
      "379\n",
      "window = 5 [100, 5, 5, 5, 0.025, 0.001] \n",
      " Similarity = 0.9033542412561906\n",
      "379\n",
      "window = 5 [100, 5, 5, 5, 0.025, 0.001] \n",
      " Similarity = 0.9025733900469253\n",
      "379\n",
      "window = 7 [100, 7, 5, 5, 0.025, 0.001] \n",
      " Similarity = 0.9021441554948759\n",
      "379\n",
      "window = 8 [100, 8, 5, 5, 0.025, 0.001] \n",
      " Similarity = 0.9007813582659606\n",
      "379\n",
      "min_count = 0 [100, 5, 0, 5, 0.025, 0.001] \n",
      " Similarity = 0.9196839226608043\n",
      "379\n",
      "min_count = 5 [100, 5, 5, 5, 0.025, 0.001] \n",
      " Similarity = 0.9017280942084636\n",
      "379\n",
      "min_count = 10 [100, 5, 10, 5, 0.025, 0.001] \n",
      " Similarity = 0.8991072656655685\n"
     ]
    },
    {
     "name": "stderr",
     "output_type": "stream",
     "text": [
      "c:\\users\\grinkina_tv.sit\\pycharmprojects\\automatedmodule\\venv\\lib\\site-packages\\scipy\\spatial\\distance.py:698: RuntimeWarning: invalid value encountered in double_scalars\n",
      "  dist = 1.0 - uv / np.sqrt(uu * vv)\n"
     ]
    },
    {
     "name": "stdout",
     "output_type": "stream",
     "text": [
      "379\n",
      "min_count = 20 [100, 5, 20, 5, 0.025, 0.001] \n",
      " Similarity = nan\n",
      "379\n",
      "min_count = 50 [100, 5, 50, 5, 0.025, 0.001] \n",
      " Similarity = nan\n",
      "379\n",
      "min_count = 100 [100, 5, 100, 5, 0.025, 0.001] \n",
      " Similarity = nan\n",
      "379\n",
      "min_count = 200 [100, 5, 200, 5, 0.025, 0.001] \n",
      " Similarity = nan\n",
      "379\n",
      "min_count = 400 [100, 5, 400, 5, 0.025, 0.001] \n",
      " Similarity = nan\n",
      "379\n",
      "min_count = 800 [100, 5, 800, 5, 0.025, 0.001] \n",
      " Similarity = nan\n",
      "379\n",
      "min_count = 1000 [100, 5, 1000, 5, 0.025, 0.001] \n",
      " Similarity = nan\n",
      "379\n",
      "min_count = 1200 [100, 5, 1200, 5, 0.025, 0.001] \n",
      " Similarity = nan\n",
      "379\n",
      "min_count = 2400 [100, 5, 2400, 5, 0.025, 0.001] \n",
      " Similarity = nan\n",
      "379\n",
      "negative = 1 [100, 5, 5, 1, 0.025, 0.001] \n",
      " Similarity = 0.8957014053492978\n",
      "379\n",
      "negative = 2 [100, 5, 5, 2, 0.025, 0.001] \n",
      " Similarity = 0.9053314800615279\n",
      "379\n",
      "negative = 3 [100, 5, 5, 3, 0.025, 0.001] \n",
      " Similarity = 0.9055048112166174\n",
      "379\n",
      "negative = 5 [100, 5, 5, 5, 0.025, 0.001] \n",
      " Similarity = 0.9029581469619804\n",
      "379\n",
      "negative = 8 [100, 5, 5, 8, 0.025, 0.001] \n",
      " Similarity = 0.9005156093986598\n",
      "379\n",
      "negative = 10 [100, 5, 5, 10, 0.025, 0.001] \n",
      " Similarity = 0.9005639324585604\n",
      "379\n",
      "negative = 15 [100, 5, 5, 15, 0.025, 0.001] \n",
      " Similarity = 0.9021139541429333\n",
      "379\n",
      "alpha = 0.0125 [100, 5, 5, 5, 0.0125, 0.001] \n",
      " Similarity = 0.9240274589260002\n",
      "379\n",
      "alpha = 0.025 [100, 5, 5, 5, 0.025, 0.001] \n",
      " Similarity = 0.9020851878344538\n",
      "379\n",
      "alpha = 0.05 [100, 5, 5, 5, 0.05, 0.001] \n",
      " Similarity = 0.8842268475106843\n",
      "379\n",
      "alpha = 0.01 [100, 5, 5, 5, 0.01, 0.001] \n",
      " Similarity = 0.9329219815539438\n",
      "379\n",
      "sample = 0 [100, 5, 5, 5, 0.025, 0] \n",
      " Similarity = 0.8994639820761675\n",
      "379\n",
      "sample = 0.1 [100, 5, 5, 5, 0.025, 0.1] \n",
      " Similarity = 0.8993807016800929\n",
      "379\n",
      "sample = 0.01 [100, 5, 5, 5, 0.025, 0.01] \n",
      " Similarity = 0.8992965197735773\n",
      "379\n",
      "sample = 0.001 [100, 5, 5, 5, 0.025, 0.001] \n",
      " Similarity = 0.9027096919104247\n",
      "379\n",
      "sample = 0.0001 [100, 5, 5, 5, 0.025, 0.0001] \n",
      " Similarity = 0.9445460382424866\n",
      "379\n",
      "sample = 1e-05 [100, 5, 5, 5, 0.025, 1e-05] \n",
      " Similarity = 0.9995321662723214\n",
      "379\n",
      "sample = 1e-06 [100, 5, 5, 5, 0.025, 1e-06] \n",
      " Similarity = 0.5881262881008243\n",
      "379\n",
      "sample = 1e-07 [100, 5, 5, 5, 0.025, 1e-07] \n",
      " Similarity = 0.5869607384145191\n",
      "379\n",
      "sample = 1e-08 [100, 5, 5, 5, 0.025, 1e-08] \n",
      " Similarity = 0.5869174786680473\n",
      "379\n",
      "sample = 1e-09 [100, 5, 5, 5, 0.025, 1e-09] \n",
      " Similarity = 0.5869172857586017\n"
     ]
    }
   ],
   "source": [
    "simil = []\n",
    "params = [j for j in def_param.values()]\n",
    "for i in tq(def_param.keys()):\n",
    "    index = param_to_index[i]\n",
    "    for k in set_param[i]:\n",
    "        param_test = params.copy()\n",
    "        param_test[index] = k\n",
    "        model = w2v(words, size=param_test[0], window=param_test[1], min_count=param_test[2], sg=1, negative=param_test[3],\n",
    "                    alpha=param_test[4], sample=param_test[5])\n",
    "        cos = []\n",
    "        for _, row in data.iterrows():\n",
    "            el1 = np.mean(tokens(row['ЭталоннаяПозиция'], model, param_test[0]), axis=0)\n",
    "            el2 = np.mean(tokens(row['Номенклатура'], model, param_test[0]), axis=0)\n",
    "            cos.append(1 - scipy.spatial.distance.cosine(el1, el2))\n",
    "        print(len(cos))\n",
    "        mean = np.mean(cos)\n",
    "        print('{0} = {1}'.format(i, k), param_test, '\\n', 'Similarity = {0}'.format(mean))\n",
    "        simil.append(mean)"
   ]
  },
  {
   "cell_type": "markdown",
   "metadata": {},
   "source": [
    "## Внешняя оценка векторов\n",
    "\n",
    "Внешняя оценка проводится с помощью заранее обученного классификатора присвоения бухгалтерского счета. Во время тестирование намеренно не будет поизводится тонкая настройка классификатора и дообучение векторов, в связи с тем чтобы более наглядно продемонстрировать зависимость качетсва классификатора от векторов.\n",
    "\n",
    "Оценивание классификатора проводится по F1-score методу"
   ]
  },
  {
   "cell_type": "code",
   "execution_count": 7,
   "metadata": {},
   "outputs": [
    {
     "data": {
      "application/vnd.jupyter.widget-view+json": {
       "model_id": "8908e598131d430c8f9d69ad05654f8c",
       "version_major": 2,
       "version_minor": 0
      },
      "text/plain": [
       "HBox(children=(IntProgress(value=0, max=6), HTML(value='')))"
      ]
     },
     "metadata": {},
     "output_type": "display_data"
    },
    {
     "name": "stderr",
     "output_type": "stream",
     "text": [
      "c:\\users\\grinkina_tv.sit\\pycharmprojects\\automatedmodule\\venv\\lib\\site-packages\\sklearn\\svm\\base.py:931: ConvergenceWarning: Liblinear failed to converge, increase the number of iterations.\n",
      "  \"the number of iterations.\", ConvergenceWarning)\n",
      "c:\\users\\grinkina_tv.sit\\pycharmprojects\\automatedmodule\\venv\\lib\\site-packages\\sklearn\\metrics\\classification.py:1143: UndefinedMetricWarning: F-score is ill-defined and being set to 0.0 in labels with no predicted samples.\n",
      "  'precision', 'predicted', average, warn_for)\n"
     ]
    },
    {
     "name": "stdout",
     "output_type": "stream",
     "text": [
      "size = 25 [25, 5, 5, 5, 0.025, 0.001] \n",
      " Similarity = 0.04568114274757934\n"
     ]
    },
    {
     "name": "stderr",
     "output_type": "stream",
     "text": [
      "c:\\users\\grinkina_tv.sit\\pycharmprojects\\automatedmodule\\venv\\lib\\site-packages\\sklearn\\svm\\base.py:931: ConvergenceWarning: Liblinear failed to converge, increase the number of iterations.\n",
      "  \"the number of iterations.\", ConvergenceWarning)\n",
      "c:\\users\\grinkina_tv.sit\\pycharmprojects\\automatedmodule\\venv\\lib\\site-packages\\sklearn\\metrics\\classification.py:1143: UndefinedMetricWarning: F-score is ill-defined and being set to 0.0 in labels with no predicted samples.\n",
      "  'precision', 'predicted', average, warn_for)\n"
     ]
    },
    {
     "name": "stdout",
     "output_type": "stream",
     "text": [
      "size = 50 [50, 5, 5, 5, 0.025, 0.001] \n",
      " Similarity = 0.04709618094592274\n"
     ]
    },
    {
     "name": "stderr",
     "output_type": "stream",
     "text": [
      "c:\\users\\grinkina_tv.sit\\pycharmprojects\\automatedmodule\\venv\\lib\\site-packages\\sklearn\\svm\\base.py:931: ConvergenceWarning: Liblinear failed to converge, increase the number of iterations.\n",
      "  \"the number of iterations.\", ConvergenceWarning)\n",
      "c:\\users\\grinkina_tv.sit\\pycharmprojects\\automatedmodule\\venv\\lib\\site-packages\\sklearn\\metrics\\classification.py:1143: UndefinedMetricWarning: F-score is ill-defined and being set to 0.0 in labels with no predicted samples.\n",
      "  'precision', 'predicted', average, warn_for)\n"
     ]
    },
    {
     "name": "stdout",
     "output_type": "stream",
     "text": [
      "size = 100 [100, 5, 5, 5, 0.025, 0.001] \n",
      " Similarity = 0.05716289541474342\n"
     ]
    },
    {
     "name": "stderr",
     "output_type": "stream",
     "text": [
      "c:\\users\\grinkina_tv.sit\\pycharmprojects\\automatedmodule\\venv\\lib\\site-packages\\sklearn\\svm\\base.py:931: ConvergenceWarning: Liblinear failed to converge, increase the number of iterations.\n",
      "  \"the number of iterations.\", ConvergenceWarning)\n",
      "c:\\users\\grinkina_tv.sit\\pycharmprojects\\automatedmodule\\venv\\lib\\site-packages\\sklearn\\metrics\\classification.py:1143: UndefinedMetricWarning: F-score is ill-defined and being set to 0.0 in labels with no predicted samples.\n",
      "  'precision', 'predicted', average, warn_for)\n"
     ]
    },
    {
     "name": "stdout",
     "output_type": "stream",
     "text": [
      "size = 200 [200, 5, 5, 5, 0.025, 0.001] \n",
      " Similarity = 0.05565298823847951\n"
     ]
    },
    {
     "name": "stderr",
     "output_type": "stream",
     "text": [
      "c:\\users\\grinkina_tv.sit\\pycharmprojects\\automatedmodule\\venv\\lib\\site-packages\\sklearn\\svm\\base.py:931: ConvergenceWarning: Liblinear failed to converge, increase the number of iterations.\n",
      "  \"the number of iterations.\", ConvergenceWarning)\n",
      "c:\\users\\grinkina_tv.sit\\pycharmprojects\\automatedmodule\\venv\\lib\\site-packages\\sklearn\\metrics\\classification.py:1143: UndefinedMetricWarning: F-score is ill-defined and being set to 0.0 in labels with no predicted samples.\n",
      "  'precision', 'predicted', average, warn_for)\n",
      "c:\\users\\grinkina_tv.sit\\pycharmprojects\\automatedmodule\\venv\\lib\\site-packages\\sklearn\\metrics\\classification.py:1145: UndefinedMetricWarning: F-score is ill-defined and being set to 0.0 in labels with no true samples.\n",
      "  'recall', 'true', average, warn_for)\n"
     ]
    },
    {
     "name": "stdout",
     "output_type": "stream",
     "text": [
      "size = 400 [400, 5, 5, 5, 0.025, 0.001] \n",
      " Similarity = 0.06193799789917489\n"
     ]
    },
    {
     "name": "stderr",
     "output_type": "stream",
     "text": [
      "c:\\users\\grinkina_tv.sit\\pycharmprojects\\automatedmodule\\venv\\lib\\site-packages\\sklearn\\svm\\base.py:931: ConvergenceWarning: Liblinear failed to converge, increase the number of iterations.\n",
      "  \"the number of iterations.\", ConvergenceWarning)\n",
      "c:\\users\\grinkina_tv.sit\\pycharmprojects\\automatedmodule\\venv\\lib\\site-packages\\sklearn\\metrics\\classification.py:1143: UndefinedMetricWarning: F-score is ill-defined and being set to 0.0 in labels with no predicted samples.\n",
      "  'precision', 'predicted', average, warn_for)\n"
     ]
    },
    {
     "name": "stdout",
     "output_type": "stream",
     "text": [
      "size = 800 [800, 5, 5, 5, 0.025, 0.001] \n",
      " Similarity = 0.05735572053460841\n"
     ]
    },
    {
     "name": "stderr",
     "output_type": "stream",
     "text": [
      "c:\\users\\grinkina_tv.sit\\pycharmprojects\\automatedmodule\\venv\\lib\\site-packages\\sklearn\\svm\\base.py:931: ConvergenceWarning: Liblinear failed to converge, increase the number of iterations.\n",
      "  \"the number of iterations.\", ConvergenceWarning)\n",
      "c:\\users\\grinkina_tv.sit\\pycharmprojects\\automatedmodule\\venv\\lib\\site-packages\\sklearn\\metrics\\classification.py:1143: UndefinedMetricWarning: F-score is ill-defined and being set to 0.0 in labels with no predicted samples.\n",
      "  'precision', 'predicted', average, warn_for)\n"
     ]
    },
    {
     "name": "stdout",
     "output_type": "stream",
     "text": [
      "window = 1 [100, 1, 5, 5, 0.025, 0.001] \n",
      " Similarity = 0.054129716760425044\n"
     ]
    },
    {
     "name": "stderr",
     "output_type": "stream",
     "text": [
      "c:\\users\\grinkina_tv.sit\\pycharmprojects\\automatedmodule\\venv\\lib\\site-packages\\sklearn\\svm\\base.py:931: ConvergenceWarning: Liblinear failed to converge, increase the number of iterations.\n",
      "  \"the number of iterations.\", ConvergenceWarning)\n",
      "c:\\users\\grinkina_tv.sit\\pycharmprojects\\automatedmodule\\venv\\lib\\site-packages\\sklearn\\metrics\\classification.py:1143: UndefinedMetricWarning: F-score is ill-defined and being set to 0.0 in labels with no predicted samples.\n",
      "  'precision', 'predicted', average, warn_for)\n"
     ]
    },
    {
     "name": "stdout",
     "output_type": "stream",
     "text": [
      "window = 2 [100, 2, 5, 5, 0.025, 0.001] \n",
      " Similarity = 0.0552043606214333\n"
     ]
    },
    {
     "name": "stderr",
     "output_type": "stream",
     "text": [
      "c:\\users\\grinkina_tv.sit\\pycharmprojects\\automatedmodule\\venv\\lib\\site-packages\\sklearn\\svm\\base.py:931: ConvergenceWarning: Liblinear failed to converge, increase the number of iterations.\n",
      "  \"the number of iterations.\", ConvergenceWarning)\n",
      "c:\\users\\grinkina_tv.sit\\pycharmprojects\\automatedmodule\\venv\\lib\\site-packages\\sklearn\\metrics\\classification.py:1143: UndefinedMetricWarning: F-score is ill-defined and being set to 0.0 in labels with no predicted samples.\n",
      "  'precision', 'predicted', average, warn_for)\n"
     ]
    },
    {
     "name": "stdout",
     "output_type": "stream",
     "text": [
      "window = 3 [100, 3, 5, 5, 0.025, 0.001] \n",
      " Similarity = 0.05009777862406339\n"
     ]
    },
    {
     "name": "stderr",
     "output_type": "stream",
     "text": [
      "c:\\users\\grinkina_tv.sit\\pycharmprojects\\automatedmodule\\venv\\lib\\site-packages\\sklearn\\svm\\base.py:931: ConvergenceWarning: Liblinear failed to converge, increase the number of iterations.\n",
      "  \"the number of iterations.\", ConvergenceWarning)\n",
      "c:\\users\\grinkina_tv.sit\\pycharmprojects\\automatedmodule\\venv\\lib\\site-packages\\sklearn\\metrics\\classification.py:1143: UndefinedMetricWarning: F-score is ill-defined and being set to 0.0 in labels with no predicted samples.\n",
      "  'precision', 'predicted', average, warn_for)\n"
     ]
    },
    {
     "name": "stdout",
     "output_type": "stream",
     "text": [
      "window = 4 [100, 4, 5, 5, 0.025, 0.001] \n",
      " Similarity = 0.058029893191591644\n"
     ]
    },
    {
     "name": "stderr",
     "output_type": "stream",
     "text": [
      "c:\\users\\grinkina_tv.sit\\pycharmprojects\\automatedmodule\\venv\\lib\\site-packages\\sklearn\\svm\\base.py:931: ConvergenceWarning: Liblinear failed to converge, increase the number of iterations.\n",
      "  \"the number of iterations.\", ConvergenceWarning)\n",
      "c:\\users\\grinkina_tv.sit\\pycharmprojects\\automatedmodule\\venv\\lib\\site-packages\\sklearn\\metrics\\classification.py:1143: UndefinedMetricWarning: F-score is ill-defined and being set to 0.0 in labels with no predicted samples.\n",
      "  'precision', 'predicted', average, warn_for)\n"
     ]
    },
    {
     "name": "stdout",
     "output_type": "stream",
     "text": [
      "window = 5 [100, 5, 5, 5, 0.025, 0.001] \n",
      " Similarity = 0.05912312102788402\n"
     ]
    },
    {
     "name": "stderr",
     "output_type": "stream",
     "text": [
      "c:\\users\\grinkina_tv.sit\\pycharmprojects\\automatedmodule\\venv\\lib\\site-packages\\sklearn\\svm\\base.py:931: ConvergenceWarning: Liblinear failed to converge, increase the number of iterations.\n",
      "  \"the number of iterations.\", ConvergenceWarning)\n",
      "c:\\users\\grinkina_tv.sit\\pycharmprojects\\automatedmodule\\venv\\lib\\site-packages\\sklearn\\metrics\\classification.py:1143: UndefinedMetricWarning: F-score is ill-defined and being set to 0.0 in labels with no predicted samples.\n",
      "  'precision', 'predicted', average, warn_for)\n"
     ]
    },
    {
     "name": "stdout",
     "output_type": "stream",
     "text": [
      "window = 5 [100, 5, 5, 5, 0.025, 0.001] \n",
      " Similarity = 0.05563461480406011\n"
     ]
    },
    {
     "name": "stderr",
     "output_type": "stream",
     "text": [
      "c:\\users\\grinkina_tv.sit\\pycharmprojects\\automatedmodule\\venv\\lib\\site-packages\\sklearn\\svm\\base.py:931: ConvergenceWarning: Liblinear failed to converge, increase the number of iterations.\n",
      "  \"the number of iterations.\", ConvergenceWarning)\n",
      "c:\\users\\grinkina_tv.sit\\pycharmprojects\\automatedmodule\\venv\\lib\\site-packages\\sklearn\\metrics\\classification.py:1143: UndefinedMetricWarning: F-score is ill-defined and being set to 0.0 in labels with no predicted samples.\n",
      "  'precision', 'predicted', average, warn_for)\n"
     ]
    },
    {
     "name": "stdout",
     "output_type": "stream",
     "text": [
      "window = 7 [100, 7, 5, 5, 0.025, 0.001] \n",
      " Similarity = 0.05846893727736866\n"
     ]
    },
    {
     "name": "stderr",
     "output_type": "stream",
     "text": [
      "c:\\users\\grinkina_tv.sit\\pycharmprojects\\automatedmodule\\venv\\lib\\site-packages\\sklearn\\svm\\base.py:931: ConvergenceWarning: Liblinear failed to converge, increase the number of iterations.\n",
      "  \"the number of iterations.\", ConvergenceWarning)\n",
      "c:\\users\\grinkina_tv.sit\\pycharmprojects\\automatedmodule\\venv\\lib\\site-packages\\sklearn\\metrics\\classification.py:1143: UndefinedMetricWarning: F-score is ill-defined and being set to 0.0 in labels with no predicted samples.\n",
      "  'precision', 'predicted', average, warn_for)\n"
     ]
    },
    {
     "name": "stdout",
     "output_type": "stream",
     "text": [
      "window = 8 [100, 8, 5, 5, 0.025, 0.001] \n",
      " Similarity = 0.05628870388665333\n"
     ]
    },
    {
     "name": "stderr",
     "output_type": "stream",
     "text": [
      "c:\\users\\grinkina_tv.sit\\pycharmprojects\\automatedmodule\\venv\\lib\\site-packages\\sklearn\\svm\\base.py:931: ConvergenceWarning: Liblinear failed to converge, increase the number of iterations.\n",
      "  \"the number of iterations.\", ConvergenceWarning)\n",
      "c:\\users\\grinkina_tv.sit\\pycharmprojects\\automatedmodule\\venv\\lib\\site-packages\\sklearn\\metrics\\classification.py:1143: UndefinedMetricWarning: F-score is ill-defined and being set to 0.0 in labels with no predicted samples.\n",
      "  'precision', 'predicted', average, warn_for)\n"
     ]
    },
    {
     "name": "stdout",
     "output_type": "stream",
     "text": [
      "min_count = 0 [100, 5, 0, 5, 0.025, 0.001] \n",
      " Similarity = 0.06683637798732309\n"
     ]
    },
    {
     "name": "stderr",
     "output_type": "stream",
     "text": [
      "c:\\users\\grinkina_tv.sit\\pycharmprojects\\automatedmodule\\venv\\lib\\site-packages\\sklearn\\svm\\base.py:931: ConvergenceWarning: Liblinear failed to converge, increase the number of iterations.\n",
      "  \"the number of iterations.\", ConvergenceWarning)\n",
      "c:\\users\\grinkina_tv.sit\\pycharmprojects\\automatedmodule\\venv\\lib\\site-packages\\sklearn\\metrics\\classification.py:1143: UndefinedMetricWarning: F-score is ill-defined and being set to 0.0 in labels with no predicted samples.\n",
      "  'precision', 'predicted', average, warn_for)\n"
     ]
    },
    {
     "name": "stdout",
     "output_type": "stream",
     "text": [
      "min_count = 5 [100, 5, 5, 5, 0.025, 0.001] \n",
      " Similarity = 0.0602970902149829\n"
     ]
    },
    {
     "name": "stderr",
     "output_type": "stream",
     "text": [
      "c:\\users\\grinkina_tv.sit\\pycharmprojects\\automatedmodule\\venv\\lib\\site-packages\\sklearn\\svm\\base.py:931: ConvergenceWarning: Liblinear failed to converge, increase the number of iterations.\n",
      "  \"the number of iterations.\", ConvergenceWarning)\n",
      "c:\\users\\grinkina_tv.sit\\pycharmprojects\\automatedmodule\\venv\\lib\\site-packages\\sklearn\\metrics\\classification.py:1143: UndefinedMetricWarning: F-score is ill-defined and being set to 0.0 in labels with no predicted samples.\n",
      "  'precision', 'predicted', average, warn_for)\n",
      "c:\\users\\grinkina_tv.sit\\pycharmprojects\\automatedmodule\\venv\\lib\\site-packages\\sklearn\\metrics\\classification.py:1145: UndefinedMetricWarning: F-score is ill-defined and being set to 0.0 in labels with no true samples.\n",
      "  'recall', 'true', average, warn_for)\n"
     ]
    },
    {
     "name": "stdout",
     "output_type": "stream",
     "text": [
      "min_count = 10 [100, 5, 10, 5, 0.025, 0.001] \n",
      " Similarity = 0.05156934539863536\n"
     ]
    },
    {
     "name": "stderr",
     "output_type": "stream",
     "text": [
      "c:\\users\\grinkina_tv.sit\\pycharmprojects\\automatedmodule\\venv\\lib\\site-packages\\sklearn\\svm\\base.py:931: ConvergenceWarning: Liblinear failed to converge, increase the number of iterations.\n",
      "  \"the number of iterations.\", ConvergenceWarning)\n",
      "c:\\users\\grinkina_tv.sit\\pycharmprojects\\automatedmodule\\venv\\lib\\site-packages\\sklearn\\metrics\\classification.py:1143: UndefinedMetricWarning: F-score is ill-defined and being set to 0.0 in labels with no predicted samples.\n",
      "  'precision', 'predicted', average, warn_for)\n"
     ]
    },
    {
     "name": "stdout",
     "output_type": "stream",
     "text": [
      "min_count = 20 [100, 5, 20, 5, 0.025, 0.001] \n",
      " Similarity = 0.054828865444060675\n"
     ]
    },
    {
     "name": "stderr",
     "output_type": "stream",
     "text": [
      "c:\\users\\grinkina_tv.sit\\pycharmprojects\\automatedmodule\\venv\\lib\\site-packages\\sklearn\\metrics\\classification.py:1143: UndefinedMetricWarning: F-score is ill-defined and being set to 0.0 in labels with no predicted samples.\n",
      "  'precision', 'predicted', average, warn_for)\n"
     ]
    },
    {
     "name": "stdout",
     "output_type": "stream",
     "text": [
      "min_count = 50 [100, 5, 50, 5, 0.025, 0.001] \n",
      " Similarity = 0.056398957922941466\n"
     ]
    },
    {
     "name": "stderr",
     "output_type": "stream",
     "text": [
      "c:\\users\\grinkina_tv.sit\\pycharmprojects\\automatedmodule\\venv\\lib\\site-packages\\sklearn\\metrics\\classification.py:1143: UndefinedMetricWarning: F-score is ill-defined and being set to 0.0 in labels with no predicted samples.\n",
      "  'precision', 'predicted', average, warn_for)\n"
     ]
    },
    {
     "name": "stdout",
     "output_type": "stream",
     "text": [
      "min_count = 100 [100, 5, 100, 5, 0.025, 0.001] \n",
      " Similarity = 0.05132894018893602\n"
     ]
    },
    {
     "name": "stderr",
     "output_type": "stream",
     "text": [
      "c:\\users\\grinkina_tv.sit\\pycharmprojects\\automatedmodule\\venv\\lib\\site-packages\\sklearn\\metrics\\classification.py:1143: UndefinedMetricWarning: F-score is ill-defined and being set to 0.0 in labels with no predicted samples.\n",
      "  'precision', 'predicted', average, warn_for)\n"
     ]
    },
    {
     "name": "stdout",
     "output_type": "stream",
     "text": [
      "min_count = 200 [100, 5, 200, 5, 0.025, 0.001] \n",
      " Similarity = 0.05527746564893318\n"
     ]
    },
    {
     "name": "stderr",
     "output_type": "stream",
     "text": [
      "c:\\users\\grinkina_tv.sit\\pycharmprojects\\automatedmodule\\venv\\lib\\site-packages\\sklearn\\metrics\\classification.py:1143: UndefinedMetricWarning: F-score is ill-defined and being set to 0.0 in labels with no predicted samples.\n",
      "  'precision', 'predicted', average, warn_for)\n"
     ]
    },
    {
     "name": "stdout",
     "output_type": "stream",
     "text": [
      "min_count = 400 [100, 5, 400, 5, 0.025, 0.001] \n",
      " Similarity = 0.05997719853491226\n"
     ]
    },
    {
     "name": "stderr",
     "output_type": "stream",
     "text": [
      "c:\\users\\grinkina_tv.sit\\pycharmprojects\\automatedmodule\\venv\\lib\\site-packages\\sklearn\\metrics\\classification.py:1143: UndefinedMetricWarning: F-score is ill-defined and being set to 0.0 in labels with no predicted samples.\n",
      "  'precision', 'predicted', average, warn_for)\n"
     ]
    },
    {
     "name": "stdout",
     "output_type": "stream",
     "text": [
      "min_count = 800 [100, 5, 800, 5, 0.025, 0.001] \n",
      " Similarity = 0.04811518986975668\n"
     ]
    },
    {
     "name": "stderr",
     "output_type": "stream",
     "text": [
      "c:\\users\\grinkina_tv.sit\\pycharmprojects\\automatedmodule\\venv\\lib\\site-packages\\sklearn\\metrics\\classification.py:1143: UndefinedMetricWarning: F-score is ill-defined and being set to 0.0 in labels with no predicted samples.\n",
      "  'precision', 'predicted', average, warn_for)\n"
     ]
    },
    {
     "name": "stdout",
     "output_type": "stream",
     "text": [
      "min_count = 1000 [100, 5, 1000, 5, 0.025, 0.001] \n",
      " Similarity = 0.04560956939688282\n"
     ]
    },
    {
     "name": "stderr",
     "output_type": "stream",
     "text": [
      "c:\\users\\grinkina_tv.sit\\pycharmprojects\\automatedmodule\\venv\\lib\\site-packages\\sklearn\\metrics\\classification.py:1143: UndefinedMetricWarning: F-score is ill-defined and being set to 0.0 in labels with no predicted samples.\n",
      "  'precision', 'predicted', average, warn_for)\n"
     ]
    },
    {
     "name": "stdout",
     "output_type": "stream",
     "text": [
      "min_count = 1200 [100, 5, 1200, 5, 0.025, 0.001] \n",
      " Similarity = 0.048628927576235687\n"
     ]
    },
    {
     "name": "stderr",
     "output_type": "stream",
     "text": [
      "c:\\users\\grinkina_tv.sit\\pycharmprojects\\automatedmodule\\venv\\lib\\site-packages\\sklearn\\metrics\\classification.py:1143: UndefinedMetricWarning: F-score is ill-defined and being set to 0.0 in labels with no predicted samples.\n",
      "  'precision', 'predicted', average, warn_for)\n"
     ]
    },
    {
     "name": "stdout",
     "output_type": "stream",
     "text": [
      "min_count = 2400 [100, 5, 2400, 5, 0.025, 0.001] \n",
      " Similarity = 0.05493025723732925\n"
     ]
    },
    {
     "name": "stderr",
     "output_type": "stream",
     "text": [
      "c:\\users\\grinkina_tv.sit\\pycharmprojects\\automatedmodule\\venv\\lib\\site-packages\\sklearn\\svm\\base.py:931: ConvergenceWarning: Liblinear failed to converge, increase the number of iterations.\n",
      "  \"the number of iterations.\", ConvergenceWarning)\n",
      "c:\\users\\grinkina_tv.sit\\pycharmprojects\\automatedmodule\\venv\\lib\\site-packages\\sklearn\\metrics\\classification.py:1143: UndefinedMetricWarning: F-score is ill-defined and being set to 0.0 in labels with no predicted samples.\n",
      "  'precision', 'predicted', average, warn_for)\n"
     ]
    },
    {
     "name": "stdout",
     "output_type": "stream",
     "text": [
      "negative = 1 [100, 5, 5, 1, 0.025, 0.001] \n",
      " Similarity = 0.057187251814393616\n"
     ]
    },
    {
     "name": "stderr",
     "output_type": "stream",
     "text": [
      "c:\\users\\grinkina_tv.sit\\pycharmprojects\\automatedmodule\\venv\\lib\\site-packages\\sklearn\\svm\\base.py:931: ConvergenceWarning: Liblinear failed to converge, increase the number of iterations.\n",
      "  \"the number of iterations.\", ConvergenceWarning)\n",
      "c:\\users\\grinkina_tv.sit\\pycharmprojects\\automatedmodule\\venv\\lib\\site-packages\\sklearn\\metrics\\classification.py:1143: UndefinedMetricWarning: F-score is ill-defined and being set to 0.0 in labels with no predicted samples.\n",
      "  'precision', 'predicted', average, warn_for)\n"
     ]
    },
    {
     "name": "stdout",
     "output_type": "stream",
     "text": [
      "negative = 2 [100, 5, 5, 2, 0.025, 0.001] \n",
      " Similarity = 0.05855935136568866\n"
     ]
    },
    {
     "name": "stderr",
     "output_type": "stream",
     "text": [
      "c:\\users\\grinkina_tv.sit\\pycharmprojects\\automatedmodule\\venv\\lib\\site-packages\\sklearn\\svm\\base.py:931: ConvergenceWarning: Liblinear failed to converge, increase the number of iterations.\n",
      "  \"the number of iterations.\", ConvergenceWarning)\n",
      "c:\\users\\grinkina_tv.sit\\pycharmprojects\\automatedmodule\\venv\\lib\\site-packages\\sklearn\\metrics\\classification.py:1143: UndefinedMetricWarning: F-score is ill-defined and being set to 0.0 in labels with no predicted samples.\n",
      "  'precision', 'predicted', average, warn_for)\n"
     ]
    },
    {
     "name": "stdout",
     "output_type": "stream",
     "text": [
      "negative = 3 [100, 5, 5, 3, 0.025, 0.001] \n",
      " Similarity = 0.05925096101314759\n"
     ]
    },
    {
     "name": "stderr",
     "output_type": "stream",
     "text": [
      "c:\\users\\grinkina_tv.sit\\pycharmprojects\\automatedmodule\\venv\\lib\\site-packages\\sklearn\\svm\\base.py:931: ConvergenceWarning: Liblinear failed to converge, increase the number of iterations.\n",
      "  \"the number of iterations.\", ConvergenceWarning)\n",
      "c:\\users\\grinkina_tv.sit\\pycharmprojects\\automatedmodule\\venv\\lib\\site-packages\\sklearn\\metrics\\classification.py:1143: UndefinedMetricWarning: F-score is ill-defined and being set to 0.0 in labels with no predicted samples.\n",
      "  'precision', 'predicted', average, warn_for)\n"
     ]
    },
    {
     "name": "stdout",
     "output_type": "stream",
     "text": [
      "negative = 5 [100, 5, 5, 5, 0.025, 0.001] \n",
      " Similarity = 0.05035918244465253\n"
     ]
    },
    {
     "name": "stderr",
     "output_type": "stream",
     "text": [
      "c:\\users\\grinkina_tv.sit\\pycharmprojects\\automatedmodule\\venv\\lib\\site-packages\\sklearn\\svm\\base.py:931: ConvergenceWarning: Liblinear failed to converge, increase the number of iterations.\n",
      "  \"the number of iterations.\", ConvergenceWarning)\n",
      "c:\\users\\grinkina_tv.sit\\pycharmprojects\\automatedmodule\\venv\\lib\\site-packages\\sklearn\\metrics\\classification.py:1143: UndefinedMetricWarning: F-score is ill-defined and being set to 0.0 in labels with no predicted samples.\n",
      "  'precision', 'predicted', average, warn_for)\n",
      "c:\\users\\grinkina_tv.sit\\pycharmprojects\\automatedmodule\\venv\\lib\\site-packages\\sklearn\\metrics\\classification.py:1145: UndefinedMetricWarning: F-score is ill-defined and being set to 0.0 in labels with no true samples.\n",
      "  'recall', 'true', average, warn_for)\n"
     ]
    },
    {
     "name": "stdout",
     "output_type": "stream",
     "text": [
      "negative = 8 [100, 5, 5, 8, 0.025, 0.001] \n",
      " Similarity = 0.05312220483741942\n"
     ]
    },
    {
     "name": "stderr",
     "output_type": "stream",
     "text": [
      "c:\\users\\grinkina_tv.sit\\pycharmprojects\\automatedmodule\\venv\\lib\\site-packages\\sklearn\\svm\\base.py:931: ConvergenceWarning: Liblinear failed to converge, increase the number of iterations.\n",
      "  \"the number of iterations.\", ConvergenceWarning)\n",
      "c:\\users\\grinkina_tv.sit\\pycharmprojects\\automatedmodule\\venv\\lib\\site-packages\\sklearn\\metrics\\classification.py:1143: UndefinedMetricWarning: F-score is ill-defined and being set to 0.0 in labels with no predicted samples.\n",
      "  'precision', 'predicted', average, warn_for)\n"
     ]
    },
    {
     "name": "stdout",
     "output_type": "stream",
     "text": [
      "negative = 10 [100, 5, 5, 10, 0.025, 0.001] \n",
      " Similarity = 0.06512146318461651\n"
     ]
    },
    {
     "name": "stderr",
     "output_type": "stream",
     "text": [
      "c:\\users\\grinkina_tv.sit\\pycharmprojects\\automatedmodule\\venv\\lib\\site-packages\\sklearn\\svm\\base.py:931: ConvergenceWarning: Liblinear failed to converge, increase the number of iterations.\n",
      "  \"the number of iterations.\", ConvergenceWarning)\n",
      "c:\\users\\grinkina_tv.sit\\pycharmprojects\\automatedmodule\\venv\\lib\\site-packages\\sklearn\\metrics\\classification.py:1143: UndefinedMetricWarning: F-score is ill-defined and being set to 0.0 in labels with no predicted samples.\n",
      "  'precision', 'predicted', average, warn_for)\n",
      "c:\\users\\grinkina_tv.sit\\pycharmprojects\\automatedmodule\\venv\\lib\\site-packages\\sklearn\\metrics\\classification.py:1145: UndefinedMetricWarning: F-score is ill-defined and being set to 0.0 in labels with no true samples.\n",
      "  'recall', 'true', average, warn_for)\n"
     ]
    },
    {
     "name": "stdout",
     "output_type": "stream",
     "text": [
      "negative = 15 [100, 5, 5, 15, 0.025, 0.001] \n",
      " Similarity = 0.05865565904142566\n"
     ]
    },
    {
     "name": "stderr",
     "output_type": "stream",
     "text": [
      "c:\\users\\grinkina_tv.sit\\pycharmprojects\\automatedmodule\\venv\\lib\\site-packages\\sklearn\\svm\\base.py:931: ConvergenceWarning: Liblinear failed to converge, increase the number of iterations.\n",
      "  \"the number of iterations.\", ConvergenceWarning)\n",
      "c:\\users\\grinkina_tv.sit\\pycharmprojects\\automatedmodule\\venv\\lib\\site-packages\\sklearn\\metrics\\classification.py:1143: UndefinedMetricWarning: F-score is ill-defined and being set to 0.0 in labels with no predicted samples.\n",
      "  'precision', 'predicted', average, warn_for)\n"
     ]
    },
    {
     "name": "stdout",
     "output_type": "stream",
     "text": [
      "alpha = 0.0125 [100, 5, 5, 5, 0.0125, 0.001] \n",
      " Similarity = 0.05333181239133442\n"
     ]
    },
    {
     "name": "stderr",
     "output_type": "stream",
     "text": [
      "c:\\users\\grinkina_tv.sit\\pycharmprojects\\automatedmodule\\venv\\lib\\site-packages\\sklearn\\svm\\base.py:931: ConvergenceWarning: Liblinear failed to converge, increase the number of iterations.\n",
      "  \"the number of iterations.\", ConvergenceWarning)\n",
      "c:\\users\\grinkina_tv.sit\\pycharmprojects\\automatedmodule\\venv\\lib\\site-packages\\sklearn\\metrics\\classification.py:1143: UndefinedMetricWarning: F-score is ill-defined and being set to 0.0 in labels with no predicted samples.\n",
      "  'precision', 'predicted', average, warn_for)\n"
     ]
    },
    {
     "name": "stdout",
     "output_type": "stream",
     "text": [
      "alpha = 0.025 [100, 5, 5, 5, 0.025, 0.001] \n",
      " Similarity = 0.05675586187230006\n"
     ]
    },
    {
     "name": "stderr",
     "output_type": "stream",
     "text": [
      "c:\\users\\grinkina_tv.sit\\pycharmprojects\\automatedmodule\\venv\\lib\\site-packages\\sklearn\\svm\\base.py:931: ConvergenceWarning: Liblinear failed to converge, increase the number of iterations.\n",
      "  \"the number of iterations.\", ConvergenceWarning)\n",
      "c:\\users\\grinkina_tv.sit\\pycharmprojects\\automatedmodule\\venv\\lib\\site-packages\\sklearn\\metrics\\classification.py:1143: UndefinedMetricWarning: F-score is ill-defined and being set to 0.0 in labels with no predicted samples.\n",
      "  'precision', 'predicted', average, warn_for)\n"
     ]
    },
    {
     "name": "stdout",
     "output_type": "stream",
     "text": [
      "alpha = 0.05 [100, 5, 5, 5, 0.05, 0.001] \n",
      " Similarity = 0.05828684722591392\n"
     ]
    },
    {
     "name": "stderr",
     "output_type": "stream",
     "text": [
      "c:\\users\\grinkina_tv.sit\\pycharmprojects\\automatedmodule\\venv\\lib\\site-packages\\sklearn\\metrics\\classification.py:1143: UndefinedMetricWarning: F-score is ill-defined and being set to 0.0 in labels with no predicted samples.\n",
      "  'precision', 'predicted', average, warn_for)\n"
     ]
    },
    {
     "name": "stdout",
     "output_type": "stream",
     "text": [
      "alpha = 0.01 [100, 5, 5, 5, 0.01, 0.001] \n",
      " Similarity = 0.048349672887079725\n"
     ]
    },
    {
     "name": "stderr",
     "output_type": "stream",
     "text": [
      "c:\\users\\grinkina_tv.sit\\pycharmprojects\\automatedmodule\\venv\\lib\\site-packages\\sklearn\\svm\\base.py:931: ConvergenceWarning: Liblinear failed to converge, increase the number of iterations.\n",
      "  \"the number of iterations.\", ConvergenceWarning)\n",
      "c:\\users\\grinkina_tv.sit\\pycharmprojects\\automatedmodule\\venv\\lib\\site-packages\\sklearn\\metrics\\classification.py:1143: UndefinedMetricWarning: F-score is ill-defined and being set to 0.0 in labels with no predicted samples.\n",
      "  'precision', 'predicted', average, warn_for)\n"
     ]
    },
    {
     "name": "stdout",
     "output_type": "stream",
     "text": [
      "sample = 0 [100, 5, 5, 5, 0.025, 0] \n",
      " Similarity = 0.0498261723219573\n"
     ]
    },
    {
     "name": "stderr",
     "output_type": "stream",
     "text": [
      "c:\\users\\grinkina_tv.sit\\pycharmprojects\\automatedmodule\\venv\\lib\\site-packages\\sklearn\\svm\\base.py:931: ConvergenceWarning: Liblinear failed to converge, increase the number of iterations.\n",
      "  \"the number of iterations.\", ConvergenceWarning)\n",
      "c:\\users\\grinkina_tv.sit\\pycharmprojects\\automatedmodule\\venv\\lib\\site-packages\\sklearn\\metrics\\classification.py:1143: UndefinedMetricWarning: F-score is ill-defined and being set to 0.0 in labels with no predicted samples.\n",
      "  'precision', 'predicted', average, warn_for)\n"
     ]
    },
    {
     "name": "stdout",
     "output_type": "stream",
     "text": [
      "sample = 0.1 [100, 5, 5, 5, 0.025, 0.1] \n",
      " Similarity = 0.0647797674875594\n"
     ]
    },
    {
     "name": "stderr",
     "output_type": "stream",
     "text": [
      "c:\\users\\grinkina_tv.sit\\pycharmprojects\\automatedmodule\\venv\\lib\\site-packages\\sklearn\\svm\\base.py:931: ConvergenceWarning: Liblinear failed to converge, increase the number of iterations.\n",
      "  \"the number of iterations.\", ConvergenceWarning)\n",
      "c:\\users\\grinkina_tv.sit\\pycharmprojects\\automatedmodule\\venv\\lib\\site-packages\\sklearn\\metrics\\classification.py:1143: UndefinedMetricWarning: F-score is ill-defined and being set to 0.0 in labels with no predicted samples.\n",
      "  'precision', 'predicted', average, warn_for)\n"
     ]
    },
    {
     "name": "stdout",
     "output_type": "stream",
     "text": [
      "sample = 0.01 [100, 5, 5, 5, 0.025, 0.01] \n",
      " Similarity = 0.061665397238807464\n"
     ]
    },
    {
     "name": "stderr",
     "output_type": "stream",
     "text": [
      "c:\\users\\grinkina_tv.sit\\pycharmprojects\\automatedmodule\\venv\\lib\\site-packages\\sklearn\\svm\\base.py:931: ConvergenceWarning: Liblinear failed to converge, increase the number of iterations.\n",
      "  \"the number of iterations.\", ConvergenceWarning)\n",
      "c:\\users\\grinkina_tv.sit\\pycharmprojects\\automatedmodule\\venv\\lib\\site-packages\\sklearn\\metrics\\classification.py:1143: UndefinedMetricWarning: F-score is ill-defined and being set to 0.0 in labels with no predicted samples.\n",
      "  'precision', 'predicted', average, warn_for)\n"
     ]
    },
    {
     "name": "stdout",
     "output_type": "stream",
     "text": [
      "sample = 0.001 [100, 5, 5, 5, 0.025, 0.001] \n",
      " Similarity = 0.055096356246362575\n"
     ]
    },
    {
     "name": "stderr",
     "output_type": "stream",
     "text": [
      "c:\\users\\grinkina_tv.sit\\pycharmprojects\\automatedmodule\\venv\\lib\\site-packages\\sklearn\\metrics\\classification.py:1143: UndefinedMetricWarning: F-score is ill-defined and being set to 0.0 in labels with no predicted samples.\n",
      "  'precision', 'predicted', average, warn_for)\n"
     ]
    },
    {
     "name": "stdout",
     "output_type": "stream",
     "text": [
      "sample = 0.0001 [100, 5, 5, 5, 0.025, 0.0001] \n",
      " Similarity = 0.04915294244205953\n"
     ]
    },
    {
     "name": "stderr",
     "output_type": "stream",
     "text": [
      "c:\\users\\grinkina_tv.sit\\pycharmprojects\\automatedmodule\\venv\\lib\\site-packages\\sklearn\\metrics\\classification.py:1143: UndefinedMetricWarning: F-score is ill-defined and being set to 0.0 in labels with no predicted samples.\n",
      "  'precision', 'predicted', average, warn_for)\n"
     ]
    },
    {
     "name": "stdout",
     "output_type": "stream",
     "text": [
      "sample = 1e-05 [100, 5, 5, 5, 0.025, 1e-05] \n",
      " Similarity = 0.044384057971014496\n"
     ]
    },
    {
     "name": "stderr",
     "output_type": "stream",
     "text": [
      "c:\\users\\grinkina_tv.sit\\pycharmprojects\\automatedmodule\\venv\\lib\\site-packages\\sklearn\\metrics\\classification.py:1143: UndefinedMetricWarning: F-score is ill-defined and being set to 0.0 in labels with no predicted samples.\n",
      "  'precision', 'predicted', average, warn_for)\n"
     ]
    },
    {
     "name": "stdout",
     "output_type": "stream",
     "text": [
      "sample = 1e-06 [100, 5, 5, 5, 0.025, 1e-06] \n",
      " Similarity = 0.04695304695304696\n"
     ]
    },
    {
     "name": "stderr",
     "output_type": "stream",
     "text": [
      "c:\\users\\grinkina_tv.sit\\pycharmprojects\\automatedmodule\\venv\\lib\\site-packages\\sklearn\\metrics\\classification.py:1143: UndefinedMetricWarning: F-score is ill-defined and being set to 0.0 in labels with no predicted samples.\n",
      "  'precision', 'predicted', average, warn_for)\n"
     ]
    },
    {
     "name": "stdout",
     "output_type": "stream",
     "text": [
      "sample = 1e-07 [100, 5, 5, 5, 0.025, 1e-07] \n",
      " Similarity = 0.04590758079130172\n"
     ]
    },
    {
     "name": "stderr",
     "output_type": "stream",
     "text": [
      "c:\\users\\grinkina_tv.sit\\pycharmprojects\\automatedmodule\\venv\\lib\\site-packages\\sklearn\\metrics\\classification.py:1143: UndefinedMetricWarning: F-score is ill-defined and being set to 0.0 in labels with no predicted samples.\n",
      "  'precision', 'predicted', average, warn_for)\n"
     ]
    },
    {
     "name": "stdout",
     "output_type": "stream",
     "text": [
      "sample = 1e-08 [100, 5, 5, 5, 0.025, 1e-08] \n",
      " Similarity = 0.0426313855200294\n"
     ]
    },
    {
     "name": "stderr",
     "output_type": "stream",
     "text": [
      "c:\\users\\grinkina_tv.sit\\pycharmprojects\\automatedmodule\\venv\\lib\\site-packages\\sklearn\\metrics\\classification.py:1143: UndefinedMetricWarning: F-score is ill-defined and being set to 0.0 in labels with no predicted samples.\n",
      "  'precision', 'predicted', average, warn_for)\n"
     ]
    },
    {
     "name": "stdout",
     "output_type": "stream",
     "text": [
      "sample = 1e-09 [100, 5, 5, 5, 0.025, 1e-09] \n",
      " Similarity = 0.0538961038961039\n"
     ]
    }
   ],
   "source": [
    "from sklearn.svm import LinearSVC\n",
    "from sklearn.metrics import f1_score\n",
    "from random import shuffle\n",
    "\n",
    "classif_model = LinearSVC()\n",
    "\n",
    "models = w2v(words, size=def_param['size'], window=def_param['window'], min_count=def_param['min_count'], sg=1,\n",
    "             negative=def_param['negative'], alpha=def_param['alpha'], sample=def_param['alpha'])\n",
    "\n",
    "nomen = pd.read_csv('./Data/nomenklatura.csv', sep=';',\n",
    "                    encoding='cp1251', error_bad_lines=False, low_memory=False)[['FullName', 'Count']]\n",
    "\n",
    "X = []\n",
    "Y = []\n",
    "f1_score_test = []\n",
    "params = [j for j in def_param.values()]\n",
    "for i in tq(def_param.keys()):\n",
    "    index = param_to_index[i]\n",
    "    for k in set_param[i]:\n",
    "        param_test = params.copy()\n",
    "        param_test[index] = k\n",
    "        model = w2v(words, size=param_test[0], window=param_test[1], min_count=param_test[2], sg=1, negative=param_test[3],\n",
    "                    alpha=param_test[4], sample=param_test[5])\n",
    "        X = []\n",
    "        Y = []\n",
    "        for _, row in nomen.iterrows():\n",
    "            X.append(np.mean(tokens(row['FullName'], model, size=param_test[0]), axis=0))\n",
    "            if row['Count'] == '10.11.2001':\n",
    "                row['Count'] = '10,11,01'\n",
    "            if row['Count'] == '10.11.2002':\n",
    "                row['Count'] = '10,11,02'\n",
    "            if row['Count'] == '10.мар':\n",
    "                row['Count'] = '10,03'\n",
    "            if row['Count'] == '10.окт':\n",
    "                row['Count'] = '10,09'\n",
    "            Y.append(row['Count'])\n",
    "\n",
    "        shuffle(X)\n",
    "        shuffle(Y)\n",
    "\n",
    "        X_train = X[:3150]\n",
    "        X_valid = X[3150:4500]\n",
    "\n",
    "        Y_train = Y[:3150]\n",
    "        Y_valid = Y[3150:4500]\n",
    "\n",
    "\n",
    "        classif_model.fit(X_train, Y_train)\n",
    "        f1_param = f1_score(np.array(Y_valid), classif_model.predict(X_valid), average='macro')\n",
    "        print('{0} = {1}'.format(i, k), param_test, '\\n', 'Similarity = {0}'.format(f1_param))\n",
    "        f1_score_test.append(f1_param)"
   ]
  },
  {
   "cell_type": "code",
   "execution_count": null,
   "metadata": {},
   "outputs": [],
   "source": []
  },
  {
   "cell_type": "code",
   "execution_count": null,
   "metadata": {},
   "outputs": [],
   "source": []
  }
 ],
 "metadata": {
  "kernelspec": {
   "display_name": "Python 3",
   "language": "python",
   "name": "python3"
  },
  "language_info": {
   "codemirror_mode": {
    "name": "ipython",
    "version": 3
   },
   "file_extension": ".py",
   "mimetype": "text/x-python",
   "name": "python",
   "nbconvert_exporter": "python",
   "pygments_lexer": "ipython3",
   "version": "3.6.7"
  }
 },
 "nbformat": 4,
 "nbformat_minor": 2
}
